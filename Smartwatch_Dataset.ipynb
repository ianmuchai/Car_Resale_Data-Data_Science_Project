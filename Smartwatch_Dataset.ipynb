{
  "nbformat": 4,
  "nbformat_minor": 0,
  "metadata": {
    "colab": {
      "provenance": [],
      "authorship_tag": "ABX9TyNI1NneY2WCuedXEh9y2pJn",
      "include_colab_link": true
    },
    "kernelspec": {
      "name": "python3",
      "display_name": "Python 3"
    },
    "language_info": {
      "name": "python"
    }
  },
  "cells": [
    {
      "cell_type": "markdown",
      "metadata": {
        "id": "view-in-github",
        "colab_type": "text"
      },
      "source": [
        "<a href=\"https://colab.research.google.com/github/ianmuchai/Car_Resale_Data-Data_Science_Project/blob/main/Smartwatch_Dataset.ipynb\" target=\"_parent\"><img src=\"https://colab.research.google.com/assets/colab-badge.svg\" alt=\"Open In Colab\"/></a>"
      ]
    },
    {
      "cell_type": "code",
      "execution_count": 1,
      "metadata": {
        "id": "eriKHbTH8RTr"
      },
      "outputs": [],
      "source": [
        "import pandas as pd\n",
        "import matplotlib.pyplot as plt\n",
        "import seaborn as sns\n",
        "from google.colab import files"
      ]
    },
    {
      "cell_type": "code",
      "source": [
        "uploaded=files.upload()"
      ],
      "metadata": {
        "colab": {
          "base_uri": "https://localhost:8080/",
          "height": 73
        },
        "id": "s6cfkZsQ_-dQ",
        "outputId": "29907bb0-e60e-4807-bf3a-2613118be9f1"
      },
      "execution_count": 2,
      "outputs": [
        {
          "output_type": "display_data",
          "data": {
            "text/plain": [
              "<IPython.core.display.HTML object>"
            ],
            "text/html": [
              "\n",
              "     <input type=\"file\" id=\"files-b6bfcce0-87ee-4b37-9f22-7f4c2dfafd84\" name=\"files[]\" multiple disabled\n",
              "        style=\"border:none\" />\n",
              "     <output id=\"result-b6bfcce0-87ee-4b37-9f22-7f4c2dfafd84\">\n",
              "      Upload widget is only available when the cell has been executed in the\n",
              "      current browser session. Please rerun this cell to enable.\n",
              "      </output>\n",
              "      <script>// Copyright 2017 Google LLC\n",
              "//\n",
              "// Licensed under the Apache License, Version 2.0 (the \"License\");\n",
              "// you may not use this file except in compliance with the License.\n",
              "// You may obtain a copy of the License at\n",
              "//\n",
              "//      http://www.apache.org/licenses/LICENSE-2.0\n",
              "//\n",
              "// Unless required by applicable law or agreed to in writing, software\n",
              "// distributed under the License is distributed on an \"AS IS\" BASIS,\n",
              "// WITHOUT WARRANTIES OR CONDITIONS OF ANY KIND, either express or implied.\n",
              "// See the License for the specific language governing permissions and\n",
              "// limitations under the License.\n",
              "\n",
              "/**\n",
              " * @fileoverview Helpers for google.colab Python module.\n",
              " */\n",
              "(function(scope) {\n",
              "function span(text, styleAttributes = {}) {\n",
              "  const element = document.createElement('span');\n",
              "  element.textContent = text;\n",
              "  for (const key of Object.keys(styleAttributes)) {\n",
              "    element.style[key] = styleAttributes[key];\n",
              "  }\n",
              "  return element;\n",
              "}\n",
              "\n",
              "// Max number of bytes which will be uploaded at a time.\n",
              "const MAX_PAYLOAD_SIZE = 100 * 1024;\n",
              "\n",
              "function _uploadFiles(inputId, outputId) {\n",
              "  const steps = uploadFilesStep(inputId, outputId);\n",
              "  const outputElement = document.getElementById(outputId);\n",
              "  // Cache steps on the outputElement to make it available for the next call\n",
              "  // to uploadFilesContinue from Python.\n",
              "  outputElement.steps = steps;\n",
              "\n",
              "  return _uploadFilesContinue(outputId);\n",
              "}\n",
              "\n",
              "// This is roughly an async generator (not supported in the browser yet),\n",
              "// where there are multiple asynchronous steps and the Python side is going\n",
              "// to poll for completion of each step.\n",
              "// This uses a Promise to block the python side on completion of each step,\n",
              "// then passes the result of the previous step as the input to the next step.\n",
              "function _uploadFilesContinue(outputId) {\n",
              "  const outputElement = document.getElementById(outputId);\n",
              "  const steps = outputElement.steps;\n",
              "\n",
              "  const next = steps.next(outputElement.lastPromiseValue);\n",
              "  return Promise.resolve(next.value.promise).then((value) => {\n",
              "    // Cache the last promise value to make it available to the next\n",
              "    // step of the generator.\n",
              "    outputElement.lastPromiseValue = value;\n",
              "    return next.value.response;\n",
              "  });\n",
              "}\n",
              "\n",
              "/**\n",
              " * Generator function which is called between each async step of the upload\n",
              " * process.\n",
              " * @param {string} inputId Element ID of the input file picker element.\n",
              " * @param {string} outputId Element ID of the output display.\n",
              " * @return {!Iterable<!Object>} Iterable of next steps.\n",
              " */\n",
              "function* uploadFilesStep(inputId, outputId) {\n",
              "  const inputElement = document.getElementById(inputId);\n",
              "  inputElement.disabled = false;\n",
              "\n",
              "  const outputElement = document.getElementById(outputId);\n",
              "  outputElement.innerHTML = '';\n",
              "\n",
              "  const pickedPromise = new Promise((resolve) => {\n",
              "    inputElement.addEventListener('change', (e) => {\n",
              "      resolve(e.target.files);\n",
              "    });\n",
              "  });\n",
              "\n",
              "  const cancel = document.createElement('button');\n",
              "  inputElement.parentElement.appendChild(cancel);\n",
              "  cancel.textContent = 'Cancel upload';\n",
              "  const cancelPromise = new Promise((resolve) => {\n",
              "    cancel.onclick = () => {\n",
              "      resolve(null);\n",
              "    };\n",
              "  });\n",
              "\n",
              "  // Wait for the user to pick the files.\n",
              "  const files = yield {\n",
              "    promise: Promise.race([pickedPromise, cancelPromise]),\n",
              "    response: {\n",
              "      action: 'starting',\n",
              "    }\n",
              "  };\n",
              "\n",
              "  cancel.remove();\n",
              "\n",
              "  // Disable the input element since further picks are not allowed.\n",
              "  inputElement.disabled = true;\n",
              "\n",
              "  if (!files) {\n",
              "    return {\n",
              "      response: {\n",
              "        action: 'complete',\n",
              "      }\n",
              "    };\n",
              "  }\n",
              "\n",
              "  for (const file of files) {\n",
              "    const li = document.createElement('li');\n",
              "    li.append(span(file.name, {fontWeight: 'bold'}));\n",
              "    li.append(span(\n",
              "        `(${file.type || 'n/a'}) - ${file.size} bytes, ` +\n",
              "        `last modified: ${\n",
              "            file.lastModifiedDate ? file.lastModifiedDate.toLocaleDateString() :\n",
              "                                    'n/a'} - `));\n",
              "    const percent = span('0% done');\n",
              "    li.appendChild(percent);\n",
              "\n",
              "    outputElement.appendChild(li);\n",
              "\n",
              "    const fileDataPromise = new Promise((resolve) => {\n",
              "      const reader = new FileReader();\n",
              "      reader.onload = (e) => {\n",
              "        resolve(e.target.result);\n",
              "      };\n",
              "      reader.readAsArrayBuffer(file);\n",
              "    });\n",
              "    // Wait for the data to be ready.\n",
              "    let fileData = yield {\n",
              "      promise: fileDataPromise,\n",
              "      response: {\n",
              "        action: 'continue',\n",
              "      }\n",
              "    };\n",
              "\n",
              "    // Use a chunked sending to avoid message size limits. See b/62115660.\n",
              "    let position = 0;\n",
              "    do {\n",
              "      const length = Math.min(fileData.byteLength - position, MAX_PAYLOAD_SIZE);\n",
              "      const chunk = new Uint8Array(fileData, position, length);\n",
              "      position += length;\n",
              "\n",
              "      const base64 = btoa(String.fromCharCode.apply(null, chunk));\n",
              "      yield {\n",
              "        response: {\n",
              "          action: 'append',\n",
              "          file: file.name,\n",
              "          data: base64,\n",
              "        },\n",
              "      };\n",
              "\n",
              "      let percentDone = fileData.byteLength === 0 ?\n",
              "          100 :\n",
              "          Math.round((position / fileData.byteLength) * 100);\n",
              "      percent.textContent = `${percentDone}% done`;\n",
              "\n",
              "    } while (position < fileData.byteLength);\n",
              "  }\n",
              "\n",
              "  // All done.\n",
              "  yield {\n",
              "    response: {\n",
              "      action: 'complete',\n",
              "    }\n",
              "  };\n",
              "}\n",
              "\n",
              "scope.google = scope.google || {};\n",
              "scope.google.colab = scope.google.colab || {};\n",
              "scope.google.colab._files = {\n",
              "  _uploadFiles,\n",
              "  _uploadFilesContinue,\n",
              "};\n",
              "})(self);\n",
              "</script> "
            ]
          },
          "metadata": {}
        },
        {
          "output_type": "stream",
          "name": "stdout",
          "text": [
            "Saving smartwatches.csv to smartwatches.csv\n"
          ]
        }
      ]
    },
    {
      "cell_type": "code",
      "source": [
        "file_name='smartwatches.csv'"
      ],
      "metadata": {
        "id": "NuhjgFZDAjgI"
      },
      "execution_count": 3,
      "outputs": []
    },
    {
      "cell_type": "code",
      "source": [
        "data=pd.read_csv(file_name)"
      ],
      "metadata": {
        "id": "OQcRqtVrAtwv"
      },
      "execution_count": 4,
      "outputs": []
    },
    {
      "cell_type": "code",
      "source": [
        "data.head()"
      ],
      "metadata": {
        "colab": {
          "base_uri": "https://localhost:8080/",
          "height": 362
        },
        "id": "awzSiT5qA5FY",
        "outputId": "711779ae-cfc2-4b75-c21b-bb22fdf6eeda"
      },
      "execution_count": 5,
      "outputs": [
        {
          "output_type": "execute_result",
          "data": {
            "text/plain": [
              "   Unnamed: 0       Brand  Current Price  Original Price  Discount Percentage  \\\n",
              "0           0       noise        82990.0         89900.0             7.686318   \n",
              "1           1  fire-boltt         3799.0         16999.0            77.651627   \n",
              "2           2        boat         1999.0          7990.0            74.981227   \n",
              "3           3  fire-boltt         1799.0         19999.0            91.004550   \n",
              "4           4       noise         1599.0          4999.0            68.013603   \n",
              "\n",
              "   Rating  Number OF Ratings                              Model Name  \\\n",
              "0     4.0               65.0   Wrb-sw-colorfitpro4alpha-std-rgld_pnk   \n",
              "1     4.3            20788.0                                  BSW046   \n",
              "2     3.8            21724.0                               Wave Call   \n",
              "3     4.3            13244.0                                  BSW053   \n",
              "4     4.1            13901.0  Wrb-sw-colorfitpulsegobuzz-std-blk_blk   \n",
              "\n",
              "  Dial Shape Strap Color Strap Material Touchscreen  Battery Life (Days)  \\\n",
              "0        NaN         NaN            NaN         NaN                  8.0   \n",
              "1        NaN         NaN        Silicon         Yes                  3.5   \n",
              "2        NaN         NaN        Silicon         Yes                  8.0   \n",
              "3        NaN         NaN        Silicon         Yes                  3.5   \n",
              "4        NaN         NaN          Other         Yes                  8.0   \n",
              "\n",
              "  Bluetooth Display Size     Weight  \n",
              "0       Yes          NaN  35 - 50 g  \n",
              "1       Yes   1.8 inches  50 - 75 g  \n",
              "2       Yes   1.7 inches  35 - 50 g  \n",
              "3       Yes   1.8 inches      75g +  \n",
              "4       Yes   1.7 inches  35 - 50 g  "
            ],
            "text/html": [
              "\n",
              "  <div id=\"df-6692c519-5b19-423a-9640-7eede752d22c\" class=\"colab-df-container\">\n",
              "    <div>\n",
              "<style scoped>\n",
              "    .dataframe tbody tr th:only-of-type {\n",
              "        vertical-align: middle;\n",
              "    }\n",
              "\n",
              "    .dataframe tbody tr th {\n",
              "        vertical-align: top;\n",
              "    }\n",
              "\n",
              "    .dataframe thead th {\n",
              "        text-align: right;\n",
              "    }\n",
              "</style>\n",
              "<table border=\"1\" class=\"dataframe\">\n",
              "  <thead>\n",
              "    <tr style=\"text-align: right;\">\n",
              "      <th></th>\n",
              "      <th>Unnamed: 0</th>\n",
              "      <th>Brand</th>\n",
              "      <th>Current Price</th>\n",
              "      <th>Original Price</th>\n",
              "      <th>Discount Percentage</th>\n",
              "      <th>Rating</th>\n",
              "      <th>Number OF Ratings</th>\n",
              "      <th>Model Name</th>\n",
              "      <th>Dial Shape</th>\n",
              "      <th>Strap Color</th>\n",
              "      <th>Strap Material</th>\n",
              "      <th>Touchscreen</th>\n",
              "      <th>Battery Life (Days)</th>\n",
              "      <th>Bluetooth</th>\n",
              "      <th>Display Size</th>\n",
              "      <th>Weight</th>\n",
              "    </tr>\n",
              "  </thead>\n",
              "  <tbody>\n",
              "    <tr>\n",
              "      <th>0</th>\n",
              "      <td>0</td>\n",
              "      <td>noise</td>\n",
              "      <td>82990.0</td>\n",
              "      <td>89900.0</td>\n",
              "      <td>7.686318</td>\n",
              "      <td>4.0</td>\n",
              "      <td>65.0</td>\n",
              "      <td>Wrb-sw-colorfitpro4alpha-std-rgld_pnk</td>\n",
              "      <td>NaN</td>\n",
              "      <td>NaN</td>\n",
              "      <td>NaN</td>\n",
              "      <td>NaN</td>\n",
              "      <td>8.0</td>\n",
              "      <td>Yes</td>\n",
              "      <td>NaN</td>\n",
              "      <td>35 - 50 g</td>\n",
              "    </tr>\n",
              "    <tr>\n",
              "      <th>1</th>\n",
              "      <td>1</td>\n",
              "      <td>fire-boltt</td>\n",
              "      <td>3799.0</td>\n",
              "      <td>16999.0</td>\n",
              "      <td>77.651627</td>\n",
              "      <td>4.3</td>\n",
              "      <td>20788.0</td>\n",
              "      <td>BSW046</td>\n",
              "      <td>NaN</td>\n",
              "      <td>NaN</td>\n",
              "      <td>Silicon</td>\n",
              "      <td>Yes</td>\n",
              "      <td>3.5</td>\n",
              "      <td>Yes</td>\n",
              "      <td>1.8 inches</td>\n",
              "      <td>50 - 75 g</td>\n",
              "    </tr>\n",
              "    <tr>\n",
              "      <th>2</th>\n",
              "      <td>2</td>\n",
              "      <td>boat</td>\n",
              "      <td>1999.0</td>\n",
              "      <td>7990.0</td>\n",
              "      <td>74.981227</td>\n",
              "      <td>3.8</td>\n",
              "      <td>21724.0</td>\n",
              "      <td>Wave Call</td>\n",
              "      <td>NaN</td>\n",
              "      <td>NaN</td>\n",
              "      <td>Silicon</td>\n",
              "      <td>Yes</td>\n",
              "      <td>8.0</td>\n",
              "      <td>Yes</td>\n",
              "      <td>1.7 inches</td>\n",
              "      <td>35 - 50 g</td>\n",
              "    </tr>\n",
              "    <tr>\n",
              "      <th>3</th>\n",
              "      <td>3</td>\n",
              "      <td>fire-boltt</td>\n",
              "      <td>1799.0</td>\n",
              "      <td>19999.0</td>\n",
              "      <td>91.004550</td>\n",
              "      <td>4.3</td>\n",
              "      <td>13244.0</td>\n",
              "      <td>BSW053</td>\n",
              "      <td>NaN</td>\n",
              "      <td>NaN</td>\n",
              "      <td>Silicon</td>\n",
              "      <td>Yes</td>\n",
              "      <td>3.5</td>\n",
              "      <td>Yes</td>\n",
              "      <td>1.8 inches</td>\n",
              "      <td>75g +</td>\n",
              "    </tr>\n",
              "    <tr>\n",
              "      <th>4</th>\n",
              "      <td>4</td>\n",
              "      <td>noise</td>\n",
              "      <td>1599.0</td>\n",
              "      <td>4999.0</td>\n",
              "      <td>68.013603</td>\n",
              "      <td>4.1</td>\n",
              "      <td>13901.0</td>\n",
              "      <td>Wrb-sw-colorfitpulsegobuzz-std-blk_blk</td>\n",
              "      <td>NaN</td>\n",
              "      <td>NaN</td>\n",
              "      <td>Other</td>\n",
              "      <td>Yes</td>\n",
              "      <td>8.0</td>\n",
              "      <td>Yes</td>\n",
              "      <td>1.7 inches</td>\n",
              "      <td>35 - 50 g</td>\n",
              "    </tr>\n",
              "  </tbody>\n",
              "</table>\n",
              "</div>\n",
              "    <div class=\"colab-df-buttons\">\n",
              "\n",
              "  <div class=\"colab-df-container\">\n",
              "    <button class=\"colab-df-convert\" onclick=\"convertToInteractive('df-6692c519-5b19-423a-9640-7eede752d22c')\"\n",
              "            title=\"Convert this dataframe to an interactive table.\"\n",
              "            style=\"display:none;\">\n",
              "\n",
              "  <svg xmlns=\"http://www.w3.org/2000/svg\" height=\"24px\" viewBox=\"0 -960 960 960\">\n",
              "    <path d=\"M120-120v-720h720v720H120Zm60-500h600v-160H180v160Zm220 220h160v-160H400v160Zm0 220h160v-160H400v160ZM180-400h160v-160H180v160Zm440 0h160v-160H620v160ZM180-180h160v-160H180v160Zm440 0h160v-160H620v160Z\"/>\n",
              "  </svg>\n",
              "    </button>\n",
              "\n",
              "  <style>\n",
              "    .colab-df-container {\n",
              "      display:flex;\n",
              "      gap: 12px;\n",
              "    }\n",
              "\n",
              "    .colab-df-convert {\n",
              "      background-color: #E8F0FE;\n",
              "      border: none;\n",
              "      border-radius: 50%;\n",
              "      cursor: pointer;\n",
              "      display: none;\n",
              "      fill: #1967D2;\n",
              "      height: 32px;\n",
              "      padding: 0 0 0 0;\n",
              "      width: 32px;\n",
              "    }\n",
              "\n",
              "    .colab-df-convert:hover {\n",
              "      background-color: #E2EBFA;\n",
              "      box-shadow: 0px 1px 2px rgba(60, 64, 67, 0.3), 0px 1px 3px 1px rgba(60, 64, 67, 0.15);\n",
              "      fill: #174EA6;\n",
              "    }\n",
              "\n",
              "    .colab-df-buttons div {\n",
              "      margin-bottom: 4px;\n",
              "    }\n",
              "\n",
              "    [theme=dark] .colab-df-convert {\n",
              "      background-color: #3B4455;\n",
              "      fill: #D2E3FC;\n",
              "    }\n",
              "\n",
              "    [theme=dark] .colab-df-convert:hover {\n",
              "      background-color: #434B5C;\n",
              "      box-shadow: 0px 1px 3px 1px rgba(0, 0, 0, 0.15);\n",
              "      filter: drop-shadow(0px 1px 2px rgba(0, 0, 0, 0.3));\n",
              "      fill: #FFFFFF;\n",
              "    }\n",
              "  </style>\n",
              "\n",
              "    <script>\n",
              "      const buttonEl =\n",
              "        document.querySelector('#df-6692c519-5b19-423a-9640-7eede752d22c button.colab-df-convert');\n",
              "      buttonEl.style.display =\n",
              "        google.colab.kernel.accessAllowed ? 'block' : 'none';\n",
              "\n",
              "      async function convertToInteractive(key) {\n",
              "        const element = document.querySelector('#df-6692c519-5b19-423a-9640-7eede752d22c');\n",
              "        const dataTable =\n",
              "          await google.colab.kernel.invokeFunction('convertToInteractive',\n",
              "                                                    [key], {});\n",
              "        if (!dataTable) return;\n",
              "\n",
              "        const docLinkHtml = 'Like what you see? Visit the ' +\n",
              "          '<a target=\"_blank\" href=https://colab.research.google.com/notebooks/data_table.ipynb>data table notebook</a>'\n",
              "          + ' to learn more about interactive tables.';\n",
              "        element.innerHTML = '';\n",
              "        dataTable['output_type'] = 'display_data';\n",
              "        await google.colab.output.renderOutput(dataTable, element);\n",
              "        const docLink = document.createElement('div');\n",
              "        docLink.innerHTML = docLinkHtml;\n",
              "        element.appendChild(docLink);\n",
              "      }\n",
              "    </script>\n",
              "  </div>\n",
              "\n",
              "\n",
              "<div id=\"df-29acfbbb-2004-4ce0-bf19-0e8ba96a834a\">\n",
              "  <button class=\"colab-df-quickchart\" onclick=\"quickchart('df-29acfbbb-2004-4ce0-bf19-0e8ba96a834a')\"\n",
              "            title=\"Suggest charts\"\n",
              "            style=\"display:none;\">\n",
              "\n",
              "<svg xmlns=\"http://www.w3.org/2000/svg\" height=\"24px\"viewBox=\"0 0 24 24\"\n",
              "     width=\"24px\">\n",
              "    <g>\n",
              "        <path d=\"M19 3H5c-1.1 0-2 .9-2 2v14c0 1.1.9 2 2 2h14c1.1 0 2-.9 2-2V5c0-1.1-.9-2-2-2zM9 17H7v-7h2v7zm4 0h-2V7h2v10zm4 0h-2v-4h2v4z\"/>\n",
              "    </g>\n",
              "</svg>\n",
              "  </button>\n",
              "\n",
              "<style>\n",
              "  .colab-df-quickchart {\n",
              "      --bg-color: #E8F0FE;\n",
              "      --fill-color: #1967D2;\n",
              "      --hover-bg-color: #E2EBFA;\n",
              "      --hover-fill-color: #174EA6;\n",
              "      --disabled-fill-color: #AAA;\n",
              "      --disabled-bg-color: #DDD;\n",
              "  }\n",
              "\n",
              "  [theme=dark] .colab-df-quickchart {\n",
              "      --bg-color: #3B4455;\n",
              "      --fill-color: #D2E3FC;\n",
              "      --hover-bg-color: #434B5C;\n",
              "      --hover-fill-color: #FFFFFF;\n",
              "      --disabled-bg-color: #3B4455;\n",
              "      --disabled-fill-color: #666;\n",
              "  }\n",
              "\n",
              "  .colab-df-quickchart {\n",
              "    background-color: var(--bg-color);\n",
              "    border: none;\n",
              "    border-radius: 50%;\n",
              "    cursor: pointer;\n",
              "    display: none;\n",
              "    fill: var(--fill-color);\n",
              "    height: 32px;\n",
              "    padding: 0;\n",
              "    width: 32px;\n",
              "  }\n",
              "\n",
              "  .colab-df-quickchart:hover {\n",
              "    background-color: var(--hover-bg-color);\n",
              "    box-shadow: 0 1px 2px rgba(60, 64, 67, 0.3), 0 1px 3px 1px rgba(60, 64, 67, 0.15);\n",
              "    fill: var(--button-hover-fill-color);\n",
              "  }\n",
              "\n",
              "  .colab-df-quickchart-complete:disabled,\n",
              "  .colab-df-quickchart-complete:disabled:hover {\n",
              "    background-color: var(--disabled-bg-color);\n",
              "    fill: var(--disabled-fill-color);\n",
              "    box-shadow: none;\n",
              "  }\n",
              "\n",
              "  .colab-df-spinner {\n",
              "    border: 2px solid var(--fill-color);\n",
              "    border-color: transparent;\n",
              "    border-bottom-color: var(--fill-color);\n",
              "    animation:\n",
              "      spin 1s steps(1) infinite;\n",
              "  }\n",
              "\n",
              "  @keyframes spin {\n",
              "    0% {\n",
              "      border-color: transparent;\n",
              "      border-bottom-color: var(--fill-color);\n",
              "      border-left-color: var(--fill-color);\n",
              "    }\n",
              "    20% {\n",
              "      border-color: transparent;\n",
              "      border-left-color: var(--fill-color);\n",
              "      border-top-color: var(--fill-color);\n",
              "    }\n",
              "    30% {\n",
              "      border-color: transparent;\n",
              "      border-left-color: var(--fill-color);\n",
              "      border-top-color: var(--fill-color);\n",
              "      border-right-color: var(--fill-color);\n",
              "    }\n",
              "    40% {\n",
              "      border-color: transparent;\n",
              "      border-right-color: var(--fill-color);\n",
              "      border-top-color: var(--fill-color);\n",
              "    }\n",
              "    60% {\n",
              "      border-color: transparent;\n",
              "      border-right-color: var(--fill-color);\n",
              "    }\n",
              "    80% {\n",
              "      border-color: transparent;\n",
              "      border-right-color: var(--fill-color);\n",
              "      border-bottom-color: var(--fill-color);\n",
              "    }\n",
              "    90% {\n",
              "      border-color: transparent;\n",
              "      border-bottom-color: var(--fill-color);\n",
              "    }\n",
              "  }\n",
              "</style>\n",
              "\n",
              "  <script>\n",
              "    async function quickchart(key) {\n",
              "      const quickchartButtonEl =\n",
              "        document.querySelector('#' + key + ' button');\n",
              "      quickchartButtonEl.disabled = true;  // To prevent multiple clicks.\n",
              "      quickchartButtonEl.classList.add('colab-df-spinner');\n",
              "      try {\n",
              "        const charts = await google.colab.kernel.invokeFunction(\n",
              "            'suggestCharts', [key], {});\n",
              "      } catch (error) {\n",
              "        console.error('Error during call to suggestCharts:', error);\n",
              "      }\n",
              "      quickchartButtonEl.classList.remove('colab-df-spinner');\n",
              "      quickchartButtonEl.classList.add('colab-df-quickchart-complete');\n",
              "    }\n",
              "    (() => {\n",
              "      let quickchartButtonEl =\n",
              "        document.querySelector('#df-29acfbbb-2004-4ce0-bf19-0e8ba96a834a button');\n",
              "      quickchartButtonEl.style.display =\n",
              "        google.colab.kernel.accessAllowed ? 'block' : 'none';\n",
              "    })();\n",
              "  </script>\n",
              "</div>\n",
              "\n",
              "    </div>\n",
              "  </div>\n"
            ]
          },
          "metadata": {},
          "execution_count": 5
        }
      ]
    },
    {
      "cell_type": "code",
      "source": [
        "# Dropping the 'Unnamed: 0' column\n",
        "data.drop(columns=['Unnamed: 0'], inplace=True)"
      ],
      "metadata": {
        "id": "rUmZsezdA7xo"
      },
      "execution_count": 6,
      "outputs": []
    },
    {
      "cell_type": "code",
      "source": [
        "# Filling missing values in 'Rating' with the median\n",
        "data['Rating'] = data['Rating'].fillna(data['Rating'].median())"
      ],
      "metadata": {
        "id": "fZLZvK33BSFZ"
      },
      "execution_count": 7,
      "outputs": []
    },
    {
      "cell_type": "code",
      "source": [
        "# Filling missing values in categorical columns with 'Unknown'\n",
        "categorical_columns = data.select_dtypes(include=['object']).columns\n",
        "data[categorical_columns] = data[categorical_columns].fillna('Unknown')"
      ],
      "metadata": {
        "id": "QUln6NnTBwNH"
      },
      "execution_count": 8,
      "outputs": []
    },
    {
      "cell_type": "code",
      "source": [
        "# Handling other missing values\n",
        "# Filling 'Current Price' and 'Original Price' with their median values\n",
        "data['Current Price'] = data['Current Price'].fillna(data['Current Price'].median())\n",
        "data['Original Price'] = data['Original Price'].fillna(data['Original Price'].median())"
      ],
      "metadata": {
        "id": "7c8qPgEFCFwn"
      },
      "execution_count": 9,
      "outputs": []
    },
    {
      "cell_type": "code",
      "source": [
        "data['Rating'] = data['Rating'].fillna(data['Rating'].median())\n",
        "data['Battery Life (Days)'] = data['Battery Life (Days)'].fillna(data['Battery Life (Days)'].median())"
      ],
      "metadata": {
        "id": "oYr8-kyPzj3v"
      },
      "execution_count": 11,
      "outputs": []
    },
    {
      "cell_type": "code",
      "source": [
        "data.head()"
      ],
      "metadata": {
        "colab": {
          "base_uri": "https://localhost:8080/",
          "height": 362
        },
        "id": "iFj3Y1w10Vsy",
        "outputId": "8b694680-59a6-4688-9ec6-870d36461166"
      },
      "execution_count": 12,
      "outputs": [
        {
          "output_type": "execute_result",
          "data": {
            "text/plain": [
              "        Brand  Current Price  Original Price  Discount Percentage  Rating  \\\n",
              "0       noise        82990.0         89900.0             7.686318     4.0   \n",
              "1  fire-boltt         3799.0         16999.0            77.651627     4.3   \n",
              "2        boat         1999.0          7990.0            74.981227     3.8   \n",
              "3  fire-boltt         1799.0         19999.0            91.004550     4.3   \n",
              "4       noise         1599.0          4999.0            68.013603     4.1   \n",
              "\n",
              "   Number OF Ratings                              Model Name Dial Shape  \\\n",
              "0               65.0   Wrb-sw-colorfitpro4alpha-std-rgld_pnk    Unknown   \n",
              "1            20788.0                                  BSW046    Unknown   \n",
              "2            21724.0                               Wave Call    Unknown   \n",
              "3            13244.0                                  BSW053    Unknown   \n",
              "4            13901.0  Wrb-sw-colorfitpulsegobuzz-std-blk_blk    Unknown   \n",
              "\n",
              "  Strap Color Strap Material Touchscreen  Battery Life (Days) Bluetooth  \\\n",
              "0     Unknown        Unknown     Unknown                  8.0       Yes   \n",
              "1     Unknown        Silicon         Yes                  3.5       Yes   \n",
              "2     Unknown        Silicon         Yes                  8.0       Yes   \n",
              "3     Unknown        Silicon         Yes                  3.5       Yes   \n",
              "4     Unknown          Other         Yes                  8.0       Yes   \n",
              "\n",
              "  Display Size     Weight  \n",
              "0      Unknown  35 - 50 g  \n",
              "1   1.8 inches  50 - 75 g  \n",
              "2   1.7 inches  35 - 50 g  \n",
              "3   1.8 inches      75g +  \n",
              "4   1.7 inches  35 - 50 g  "
            ],
            "text/html": [
              "\n",
              "  <div id=\"df-0a26f894-c46a-48db-984f-d20307e53eb7\" class=\"colab-df-container\">\n",
              "    <div>\n",
              "<style scoped>\n",
              "    .dataframe tbody tr th:only-of-type {\n",
              "        vertical-align: middle;\n",
              "    }\n",
              "\n",
              "    .dataframe tbody tr th {\n",
              "        vertical-align: top;\n",
              "    }\n",
              "\n",
              "    .dataframe thead th {\n",
              "        text-align: right;\n",
              "    }\n",
              "</style>\n",
              "<table border=\"1\" class=\"dataframe\">\n",
              "  <thead>\n",
              "    <tr style=\"text-align: right;\">\n",
              "      <th></th>\n",
              "      <th>Brand</th>\n",
              "      <th>Current Price</th>\n",
              "      <th>Original Price</th>\n",
              "      <th>Discount Percentage</th>\n",
              "      <th>Rating</th>\n",
              "      <th>Number OF Ratings</th>\n",
              "      <th>Model Name</th>\n",
              "      <th>Dial Shape</th>\n",
              "      <th>Strap Color</th>\n",
              "      <th>Strap Material</th>\n",
              "      <th>Touchscreen</th>\n",
              "      <th>Battery Life (Days)</th>\n",
              "      <th>Bluetooth</th>\n",
              "      <th>Display Size</th>\n",
              "      <th>Weight</th>\n",
              "    </tr>\n",
              "  </thead>\n",
              "  <tbody>\n",
              "    <tr>\n",
              "      <th>0</th>\n",
              "      <td>noise</td>\n",
              "      <td>82990.0</td>\n",
              "      <td>89900.0</td>\n",
              "      <td>7.686318</td>\n",
              "      <td>4.0</td>\n",
              "      <td>65.0</td>\n",
              "      <td>Wrb-sw-colorfitpro4alpha-std-rgld_pnk</td>\n",
              "      <td>Unknown</td>\n",
              "      <td>Unknown</td>\n",
              "      <td>Unknown</td>\n",
              "      <td>Unknown</td>\n",
              "      <td>8.0</td>\n",
              "      <td>Yes</td>\n",
              "      <td>Unknown</td>\n",
              "      <td>35 - 50 g</td>\n",
              "    </tr>\n",
              "    <tr>\n",
              "      <th>1</th>\n",
              "      <td>fire-boltt</td>\n",
              "      <td>3799.0</td>\n",
              "      <td>16999.0</td>\n",
              "      <td>77.651627</td>\n",
              "      <td>4.3</td>\n",
              "      <td>20788.0</td>\n",
              "      <td>BSW046</td>\n",
              "      <td>Unknown</td>\n",
              "      <td>Unknown</td>\n",
              "      <td>Silicon</td>\n",
              "      <td>Yes</td>\n",
              "      <td>3.5</td>\n",
              "      <td>Yes</td>\n",
              "      <td>1.8 inches</td>\n",
              "      <td>50 - 75 g</td>\n",
              "    </tr>\n",
              "    <tr>\n",
              "      <th>2</th>\n",
              "      <td>boat</td>\n",
              "      <td>1999.0</td>\n",
              "      <td>7990.0</td>\n",
              "      <td>74.981227</td>\n",
              "      <td>3.8</td>\n",
              "      <td>21724.0</td>\n",
              "      <td>Wave Call</td>\n",
              "      <td>Unknown</td>\n",
              "      <td>Unknown</td>\n",
              "      <td>Silicon</td>\n",
              "      <td>Yes</td>\n",
              "      <td>8.0</td>\n",
              "      <td>Yes</td>\n",
              "      <td>1.7 inches</td>\n",
              "      <td>35 - 50 g</td>\n",
              "    </tr>\n",
              "    <tr>\n",
              "      <th>3</th>\n",
              "      <td>fire-boltt</td>\n",
              "      <td>1799.0</td>\n",
              "      <td>19999.0</td>\n",
              "      <td>91.004550</td>\n",
              "      <td>4.3</td>\n",
              "      <td>13244.0</td>\n",
              "      <td>BSW053</td>\n",
              "      <td>Unknown</td>\n",
              "      <td>Unknown</td>\n",
              "      <td>Silicon</td>\n",
              "      <td>Yes</td>\n",
              "      <td>3.5</td>\n",
              "      <td>Yes</td>\n",
              "      <td>1.8 inches</td>\n",
              "      <td>75g +</td>\n",
              "    </tr>\n",
              "    <tr>\n",
              "      <th>4</th>\n",
              "      <td>noise</td>\n",
              "      <td>1599.0</td>\n",
              "      <td>4999.0</td>\n",
              "      <td>68.013603</td>\n",
              "      <td>4.1</td>\n",
              "      <td>13901.0</td>\n",
              "      <td>Wrb-sw-colorfitpulsegobuzz-std-blk_blk</td>\n",
              "      <td>Unknown</td>\n",
              "      <td>Unknown</td>\n",
              "      <td>Other</td>\n",
              "      <td>Yes</td>\n",
              "      <td>8.0</td>\n",
              "      <td>Yes</td>\n",
              "      <td>1.7 inches</td>\n",
              "      <td>35 - 50 g</td>\n",
              "    </tr>\n",
              "  </tbody>\n",
              "</table>\n",
              "</div>\n",
              "    <div class=\"colab-df-buttons\">\n",
              "\n",
              "  <div class=\"colab-df-container\">\n",
              "    <button class=\"colab-df-convert\" onclick=\"convertToInteractive('df-0a26f894-c46a-48db-984f-d20307e53eb7')\"\n",
              "            title=\"Convert this dataframe to an interactive table.\"\n",
              "            style=\"display:none;\">\n",
              "\n",
              "  <svg xmlns=\"http://www.w3.org/2000/svg\" height=\"24px\" viewBox=\"0 -960 960 960\">\n",
              "    <path d=\"M120-120v-720h720v720H120Zm60-500h600v-160H180v160Zm220 220h160v-160H400v160Zm0 220h160v-160H400v160ZM180-400h160v-160H180v160Zm440 0h160v-160H620v160ZM180-180h160v-160H180v160Zm440 0h160v-160H620v160Z\"/>\n",
              "  </svg>\n",
              "    </button>\n",
              "\n",
              "  <style>\n",
              "    .colab-df-container {\n",
              "      display:flex;\n",
              "      gap: 12px;\n",
              "    }\n",
              "\n",
              "    .colab-df-convert {\n",
              "      background-color: #E8F0FE;\n",
              "      border: none;\n",
              "      border-radius: 50%;\n",
              "      cursor: pointer;\n",
              "      display: none;\n",
              "      fill: #1967D2;\n",
              "      height: 32px;\n",
              "      padding: 0 0 0 0;\n",
              "      width: 32px;\n",
              "    }\n",
              "\n",
              "    .colab-df-convert:hover {\n",
              "      background-color: #E2EBFA;\n",
              "      box-shadow: 0px 1px 2px rgba(60, 64, 67, 0.3), 0px 1px 3px 1px rgba(60, 64, 67, 0.15);\n",
              "      fill: #174EA6;\n",
              "    }\n",
              "\n",
              "    .colab-df-buttons div {\n",
              "      margin-bottom: 4px;\n",
              "    }\n",
              "\n",
              "    [theme=dark] .colab-df-convert {\n",
              "      background-color: #3B4455;\n",
              "      fill: #D2E3FC;\n",
              "    }\n",
              "\n",
              "    [theme=dark] .colab-df-convert:hover {\n",
              "      background-color: #434B5C;\n",
              "      box-shadow: 0px 1px 3px 1px rgba(0, 0, 0, 0.15);\n",
              "      filter: drop-shadow(0px 1px 2px rgba(0, 0, 0, 0.3));\n",
              "      fill: #FFFFFF;\n",
              "    }\n",
              "  </style>\n",
              "\n",
              "    <script>\n",
              "      const buttonEl =\n",
              "        document.querySelector('#df-0a26f894-c46a-48db-984f-d20307e53eb7 button.colab-df-convert');\n",
              "      buttonEl.style.display =\n",
              "        google.colab.kernel.accessAllowed ? 'block' : 'none';\n",
              "\n",
              "      async function convertToInteractive(key) {\n",
              "        const element = document.querySelector('#df-0a26f894-c46a-48db-984f-d20307e53eb7');\n",
              "        const dataTable =\n",
              "          await google.colab.kernel.invokeFunction('convertToInteractive',\n",
              "                                                    [key], {});\n",
              "        if (!dataTable) return;\n",
              "\n",
              "        const docLinkHtml = 'Like what you see? Visit the ' +\n",
              "          '<a target=\"_blank\" href=https://colab.research.google.com/notebooks/data_table.ipynb>data table notebook</a>'\n",
              "          + ' to learn more about interactive tables.';\n",
              "        element.innerHTML = '';\n",
              "        dataTable['output_type'] = 'display_data';\n",
              "        await google.colab.output.renderOutput(dataTable, element);\n",
              "        const docLink = document.createElement('div');\n",
              "        docLink.innerHTML = docLinkHtml;\n",
              "        element.appendChild(docLink);\n",
              "      }\n",
              "    </script>\n",
              "  </div>\n",
              "\n",
              "\n",
              "<div id=\"df-a9e1a0d9-18ad-4f36-94a8-2e8a0a516749\">\n",
              "  <button class=\"colab-df-quickchart\" onclick=\"quickchart('df-a9e1a0d9-18ad-4f36-94a8-2e8a0a516749')\"\n",
              "            title=\"Suggest charts\"\n",
              "            style=\"display:none;\">\n",
              "\n",
              "<svg xmlns=\"http://www.w3.org/2000/svg\" height=\"24px\"viewBox=\"0 0 24 24\"\n",
              "     width=\"24px\">\n",
              "    <g>\n",
              "        <path d=\"M19 3H5c-1.1 0-2 .9-2 2v14c0 1.1.9 2 2 2h14c1.1 0 2-.9 2-2V5c0-1.1-.9-2-2-2zM9 17H7v-7h2v7zm4 0h-2V7h2v10zm4 0h-2v-4h2v4z\"/>\n",
              "    </g>\n",
              "</svg>\n",
              "  </button>\n",
              "\n",
              "<style>\n",
              "  .colab-df-quickchart {\n",
              "      --bg-color: #E8F0FE;\n",
              "      --fill-color: #1967D2;\n",
              "      --hover-bg-color: #E2EBFA;\n",
              "      --hover-fill-color: #174EA6;\n",
              "      --disabled-fill-color: #AAA;\n",
              "      --disabled-bg-color: #DDD;\n",
              "  }\n",
              "\n",
              "  [theme=dark] .colab-df-quickchart {\n",
              "      --bg-color: #3B4455;\n",
              "      --fill-color: #D2E3FC;\n",
              "      --hover-bg-color: #434B5C;\n",
              "      --hover-fill-color: #FFFFFF;\n",
              "      --disabled-bg-color: #3B4455;\n",
              "      --disabled-fill-color: #666;\n",
              "  }\n",
              "\n",
              "  .colab-df-quickchart {\n",
              "    background-color: var(--bg-color);\n",
              "    border: none;\n",
              "    border-radius: 50%;\n",
              "    cursor: pointer;\n",
              "    display: none;\n",
              "    fill: var(--fill-color);\n",
              "    height: 32px;\n",
              "    padding: 0;\n",
              "    width: 32px;\n",
              "  }\n",
              "\n",
              "  .colab-df-quickchart:hover {\n",
              "    background-color: var(--hover-bg-color);\n",
              "    box-shadow: 0 1px 2px rgba(60, 64, 67, 0.3), 0 1px 3px 1px rgba(60, 64, 67, 0.15);\n",
              "    fill: var(--button-hover-fill-color);\n",
              "  }\n",
              "\n",
              "  .colab-df-quickchart-complete:disabled,\n",
              "  .colab-df-quickchart-complete:disabled:hover {\n",
              "    background-color: var(--disabled-bg-color);\n",
              "    fill: var(--disabled-fill-color);\n",
              "    box-shadow: none;\n",
              "  }\n",
              "\n",
              "  .colab-df-spinner {\n",
              "    border: 2px solid var(--fill-color);\n",
              "    border-color: transparent;\n",
              "    border-bottom-color: var(--fill-color);\n",
              "    animation:\n",
              "      spin 1s steps(1) infinite;\n",
              "  }\n",
              "\n",
              "  @keyframes spin {\n",
              "    0% {\n",
              "      border-color: transparent;\n",
              "      border-bottom-color: var(--fill-color);\n",
              "      border-left-color: var(--fill-color);\n",
              "    }\n",
              "    20% {\n",
              "      border-color: transparent;\n",
              "      border-left-color: var(--fill-color);\n",
              "      border-top-color: var(--fill-color);\n",
              "    }\n",
              "    30% {\n",
              "      border-color: transparent;\n",
              "      border-left-color: var(--fill-color);\n",
              "      border-top-color: var(--fill-color);\n",
              "      border-right-color: var(--fill-color);\n",
              "    }\n",
              "    40% {\n",
              "      border-color: transparent;\n",
              "      border-right-color: var(--fill-color);\n",
              "      border-top-color: var(--fill-color);\n",
              "    }\n",
              "    60% {\n",
              "      border-color: transparent;\n",
              "      border-right-color: var(--fill-color);\n",
              "    }\n",
              "    80% {\n",
              "      border-color: transparent;\n",
              "      border-right-color: var(--fill-color);\n",
              "      border-bottom-color: var(--fill-color);\n",
              "    }\n",
              "    90% {\n",
              "      border-color: transparent;\n",
              "      border-bottom-color: var(--fill-color);\n",
              "    }\n",
              "  }\n",
              "</style>\n",
              "\n",
              "  <script>\n",
              "    async function quickchart(key) {\n",
              "      const quickchartButtonEl =\n",
              "        document.querySelector('#' + key + ' button');\n",
              "      quickchartButtonEl.disabled = true;  // To prevent multiple clicks.\n",
              "      quickchartButtonEl.classList.add('colab-df-spinner');\n",
              "      try {\n",
              "        const charts = await google.colab.kernel.invokeFunction(\n",
              "            'suggestCharts', [key], {});\n",
              "      } catch (error) {\n",
              "        console.error('Error during call to suggestCharts:', error);\n",
              "      }\n",
              "      quickchartButtonEl.classList.remove('colab-df-spinner');\n",
              "      quickchartButtonEl.classList.add('colab-df-quickchart-complete');\n",
              "    }\n",
              "    (() => {\n",
              "      let quickchartButtonEl =\n",
              "        document.querySelector('#df-a9e1a0d9-18ad-4f36-94a8-2e8a0a516749 button');\n",
              "      quickchartButtonEl.style.display =\n",
              "        google.colab.kernel.accessAllowed ? 'block' : 'none';\n",
              "    })();\n",
              "  </script>\n",
              "</div>\n",
              "\n",
              "    </div>\n",
              "  </div>\n"
            ]
          },
          "metadata": {},
          "execution_count": 12
        }
      ]
    },
    {
      "cell_type": "code",
      "source": [
        "# Convert to appropriate data types\n",
        "categorical_columns = ['Brand', 'Model Name', 'Dial Shape', 'Strap Color', 'Strap Material', 'Touchscreen', 'Bluetooth']\n",
        "data[categorical_columns] = data[categorical_columns].astype('category')"
      ],
      "metadata": {
        "id": "UCEx-zdX0ZII"
      },
      "execution_count": 14,
      "outputs": []
    },
    {
      "cell_type": "code",
      "source": [
        "print(data.dtypes)"
      ],
      "metadata": {
        "colab": {
          "base_uri": "https://localhost:8080/"
        },
        "id": "Gl71DWA54OCY",
        "outputId": "9d765686-f14a-4a51-ba47-2ffdfa849c33"
      },
      "execution_count": 17,
      "outputs": [
        {
          "output_type": "stream",
          "name": "stdout",
          "text": [
            "Brand                  category\n",
            "Current Price           float64\n",
            "Original Price          float64\n",
            "Discount Percentage     float64\n",
            "Rating                  float64\n",
            "Number OF Ratings       float64\n",
            "Model Name             category\n",
            "Dial Shape             category\n",
            "Strap Color            category\n",
            "Strap Material         category\n",
            "Touchscreen            category\n",
            "Battery Life (Days)     float64\n",
            "Bluetooth              category\n",
            "Display Size             object\n",
            "Weight                   object\n",
            "dtype: object\n"
          ]
        }
      ]
    },
    {
      "cell_type": "code",
      "source": [
        "# Descriptive Statistics\n",
        "descriptive_stats = data.describe()\n",
        "print(descriptive_stats)"
      ],
      "metadata": {
        "colab": {
          "base_uri": "https://localhost:8080/"
        },
        "id": "NuDATqLF4yBq",
        "outputId": "4f44e393-43fb-4e55-aea6-5e9b9fd8e99d"
      },
      "execution_count": 21,
      "outputs": [
        {
          "output_type": "stream",
          "name": "stdout",
          "text": [
            "       Current Price  Original Price  Discount Percentage      Rating  \\\n",
            "count     450.000000      450.000000           377.000000  450.000000   \n",
            "mean    12553.142222    13527.666667            48.236894    4.032222   \n",
            "std     17609.161734    14346.636604            24.109830    0.546914   \n",
            "min      1199.000000     1669.000000           -79.688436    1.000000   \n",
            "25%      2199.000000     5999.000000            33.337037    3.900000   \n",
            "50%      3999.000000     7999.000000            54.550414    4.100000   \n",
            "75%     16999.000000    13749.000000            66.677780    4.300000   \n",
            "max    139990.000000    96390.000000            91.004550    5.000000   \n",
            "\n",
            "       Number OF Ratings  Battery Life (Days)  \n",
            "count         391.000000           450.000000  \n",
            "mean        11594.726343            14.320778  \n",
            "std         40423.889227             7.490319  \n",
            "min             1.000000             0.750000  \n",
            "25%            68.500000             8.000000  \n",
            "50%           996.000000            17.500000  \n",
            "75%          6022.000000            22.000000  \n",
            "max        619130.000000            22.000000  \n"
          ]
        }
      ]
    },
    {
      "cell_type": "code",
      "source": [
        "# Brand Analysis\n",
        "brand_distribution = data['Brand'].value_counts()\n",
        "print(brand_distribution)"
      ],
      "metadata": {
        "colab": {
          "base_uri": "https://localhost:8080/"
        },
        "id": "uwWDzRbc42gx",
        "outputId": "21ba6408-058e-4667-a144-571792e256bd"
      },
      "execution_count": 25,
      "outputs": [
        {
          "output_type": "stream",
          "name": "stdout",
          "text": [
            "fire-boltt    60\n",
            "noise         43\n",
            "garmin        41\n",
            "pebble        33\n",
            "zebronics     33\n",
            "boat          32\n",
            "samsung       30\n",
            "apple         26\n",
            "dizo          25\n",
            "fossil        24\n",
            "gizmore       23\n",
            "fitbit        21\n",
            "huawei        15\n",
            "honor         14\n",
            "amazfit       14\n",
            "ambrane       11\n",
            "crossbeats     4\n",
            "hammer         1\n",
            "Name: Brand, dtype: int64\n"
          ]
        }
      ]
    },
    {
      "cell_type": "code",
      "source": [
        "# Price Analysis\n",
        "price_stats = data[['Current Price', 'Original Price']].describe()\n",
        "print(price_stats)"
      ],
      "metadata": {
        "colab": {
          "base_uri": "https://localhost:8080/"
        },
        "id": "kJSszu595gGx",
        "outputId": "1410eb62-d456-4b63-f802-cf124e4e2082"
      },
      "execution_count": 27,
      "outputs": [
        {
          "output_type": "stream",
          "name": "stdout",
          "text": [
            "       Current Price  Original Price\n",
            "count     450.000000      450.000000\n",
            "mean    12553.142222    13527.666667\n",
            "std     17609.161734    14346.636604\n",
            "min      1199.000000     1669.000000\n",
            "25%      2199.000000     5999.000000\n",
            "50%      3999.000000     7999.000000\n",
            "75%     16999.000000    13749.000000\n",
            "max    139990.000000    96390.000000\n"
          ]
        }
      ]
    },
    {
      "cell_type": "code",
      "source": [
        "# Ratings Analysis\n",
        "rating_stats = data['Rating'].describe()\n",
        "print(rating_stats)"
      ],
      "metadata": {
        "colab": {
          "base_uri": "https://localhost:8080/"
        },
        "id": "Ck6Ew0YC6ZOb",
        "outputId": "30faa48c-5fe6-4d7b-9706-43368efd7955"
      },
      "execution_count": 28,
      "outputs": [
        {
          "output_type": "stream",
          "name": "stdout",
          "text": [
            "count    450.000000\n",
            "mean       4.032222\n",
            "std        0.546914\n",
            "min        1.000000\n",
            "25%        3.900000\n",
            "50%        4.100000\n",
            "75%        4.300000\n",
            "max        5.000000\n",
            "Name: Rating, dtype: float64\n"
          ]
        }
      ]
    },
    {
      "cell_type": "code",
      "source": [
        "# Feature Analysis\n",
        "# Analyzing features like Battery Life, Touchscreen availability in relation to price and ratings\n",
        "battery_price_rating = data.groupby('Battery Life (Days)').agg({'Current Price':'mean', 'Rating':'mean'})\n",
        "touchscreen_price_rating = data.groupby('Touchscreen').agg({'Current Price':'mean', 'Rating':'mean'})\n",
        "print(battery_price_rating)\n",
        "print(touchscreen_price_rating)"
      ],
      "metadata": {
        "colab": {
          "base_uri": "https://localhost:8080/"
        },
        "id": "SxIVibfr6pyJ",
        "outputId": "993198ca-af5b-4e27-e285-b14357c921d6"
      },
      "execution_count": 30,
      "outputs": [
        {
          "output_type": "stream",
          "name": "stdout",
          "text": [
            "                     Current Price    Rating\n",
            "Battery Life (Days)                         \n",
            "0.75                   9165.666667  4.066667\n",
            "3.50                  15302.657534  4.145205\n",
            "3.60                   8317.500000  4.116667\n",
            "8.00                   7474.198113  4.021698\n",
            "12.50                 17536.583333  4.125000\n",
            "17.50                 20835.986486  4.091892\n",
            "22.00                 10851.426136  3.956818\n",
            "             Current Price    Rating\n",
            "Touchscreen                         \n",
            "No            28950.208333  4.404167\n",
            "Unknown       12903.081081  3.867568\n",
            "Yes           11508.213368  4.024936\n"
          ]
        }
      ]
    },
    {
      "cell_type": "code",
      "source": [
        "pd.set_option('display.max_columns', None)  # Shows all columns\n",
        "pd.set_option('display.width', None)        # Utilizes the maximum window width"
      ],
      "metadata": {
        "id": "bc8J-I7F8TAg"
      },
      "execution_count": 35,
      "outputs": []
    },
    {
      "cell_type": "code",
      "source": [
        "# Correlation Analysis\n",
        "correlation_matrix = data.corr()"
      ],
      "metadata": {
        "colab": {
          "base_uri": "https://localhost:8080/"
        },
        "id": "D4CzFFT97EFG",
        "outputId": "98c0678e-f9ee-4bfc-e355-d3a3f6f83aab"
      },
      "execution_count": 36,
      "outputs": [
        {
          "output_type": "stream",
          "name": "stderr",
          "text": [
            "<ipython-input-36-7c00a7d52ca1>:2: FutureWarning: The default value of numeric_only in DataFrame.corr is deprecated. In a future version, it will default to False. Select only valid columns or specify the value of numeric_only to silence this warning.\n",
            "  correlation_matrix = data.corr()\n"
          ]
        }
      ]
    },
    {
      "cell_type": "code",
      "source": [
        "#Visualizing the correlation\n",
        "plt.figure(figsize=(10, 8))\n",
        "sns.heatmap(data.corr(), annot=True, fmt=\".2f\")\n",
        "plt.show()"
      ],
      "metadata": {
        "colab": {
          "base_uri": "https://localhost:8080/",
          "height": 868
        },
        "id": "wCVHh93c8m7P",
        "outputId": "2f2aeac2-4bd3-48c3-c66c-ec1eca14eb3e"
      },
      "execution_count": 37,
      "outputs": [
        {
          "output_type": "stream",
          "name": "stderr",
          "text": [
            "<ipython-input-37-64523635d3e2>:2: FutureWarning: The default value of numeric_only in DataFrame.corr is deprecated. In a future version, it will default to False. Select only valid columns or specify the value of numeric_only to silence this warning.\n",
            "  sns.heatmap(data.corr(), annot=True, fmt=\".2f\")\n"
          ]
        },
        {
          "output_type": "display_data",
          "data": {
            "text/plain": [
              "<Figure size 1000x800 with 2 Axes>"
            ],
            "image/png": "[encoded data removed]"
          },
          "metadata": {}
        }
      ]
    },
    {
      "cell_type": "code",
      "source": [
        "# Plotting\n",
        "# Brand Distribution\n",
        "plt.figure(figsize=(10, 6))\n",
        "sns.barplot(x=brand_distribution.index, y=brand_distribution.values)\n",
        "plt.xticks(rotation=45)\n",
        "plt.title('Brand Distribution')\n",
        "plt.ylabel('Count')\n",
        "plt.xlabel('Brand')"
      ],
      "metadata": {
        "colab": {
          "base_uri": "https://localhost:8080/",
          "height": 631
        },
        "id": "l0uKsyk_9S8I",
        "outputId": "51b3ac01-a762-4e15-ceac-feb8163b495b"
      },
      "execution_count": 38,
      "outputs": [
        {
          "output_type": "execute_result",
          "data": {
            "text/plain": [
              "Text(0.5, 0, 'Brand')"
            ]
          },
          "metadata": {},
          "execution_count": 38
        },
        {
          "output_type": "display_data",
          "data": {
            "text/plain": [
              "<Figure size 1000x600 with 1 Axes>"
            ],
            "image/png": "[encoded data removed]"
          },
          "metadata": {}
        }
      ]
    },
    {
      "cell_type": "code",
      "source": [
        "# Correlation Heatmap\n",
        "plt.figure(figsize=(8, 6))\n",
        "sns.heatmap(correlation_matrix, annot=True, cmap='coolwarm')\n",
        "plt.title('Correlation Matrix')"
      ],
      "metadata": {
        "colab": {
          "base_uri": "https://localhost:8080/",
          "height": 692
        },
        "id": "ygKpe1Vh9XMX",
        "outputId": "2a8789d9-8c14-4a57-f888-7a8e6b68a8ad"
      },
      "execution_count": 39,
      "outputs": [
        {
          "output_type": "execute_result",
          "data": {
            "text/plain": [
              "Text(0.5, 1.0, 'Correlation Matrix')"
            ]
          },
          "metadata": {},
          "execution_count": 39
        },
        {
          "output_type": "display_data",
          "data": {
            "text/plain": [
              "<Figure size 800x600 with 2 Axes>"
            ],
            "image/png": "[encoded data removed]"
          },
          "metadata": {}
        }
      ]
    },
    {
      "cell_type": "code",
      "source": [
        "# Price Comparison: Current Price vs Original Price\n",
        "data['Discount Amount'] = data['Original Price'] - data['Current Price']\n",
        "data['Discount Percentage'] = (data['Discount Amount'] / data['Original Price']) * 100"
      ],
      "metadata": {
        "id": "wtgpNQ7p_J6a"
      },
      "execution_count": 42,
      "outputs": []
    },
    {
      "cell_type": "code",
      "source": [
        "# Popularity Analysis: Number of Ratings\n",
        "popularity_by_brand = data.groupby('Brand')['Number OF Ratings'].sum()\n",
        "\n",
        "# Rating Analysis\n",
        "average_rating_by_brand = data.groupby('Brand')['Rating'].mean()"
      ],
      "metadata": {
        "id": "W7lhSS0z_ObC"
      },
      "execution_count": 43,
      "outputs": []
    },
    {
      "cell_type": "code",
      "source": [
        "# Price vs Rating\n",
        "plt.figure(figsize=(10, 6))\n",
        "sns.scatterplot(x='Current Price', y='Rating', data=data)\n",
        "plt.title('Price vs Rating')\n",
        "plt.xlabel('Current Price')\n",
        "plt.ylabel('Rating')"
      ],
      "metadata": {
        "colab": {
          "base_uri": "https://localhost:8080/",
          "height": 582
        },
        "id": "p-EtGt3o_S5K",
        "outputId": "de623d54-791e-411a-b617-9815dc9cfdaf"
      },
      "execution_count": 45,
      "outputs": [
        {
          "output_type": "execute_result",
          "data": {
            "text/plain": [
              "Text(0, 0.5, 'Rating')"
            ]
          },
          "metadata": {},
          "execution_count": 45
        },
        {
          "output_type": "display_data",
          "data": {
            "text/plain": [
              "<Figure size 1000x600 with 1 Axes>"
            ],
            "image/png": "[encoded data removed]"
          },
          "metadata": {}
        }
      ]
    },
    {
      "cell_type": "code",
      "source": [
        "# Feature Analysis: Battery Life and Rating\n",
        "battery_rating_comparison = data.groupby('Battery Life (Days)')['Rating'].mean()"
      ],
      "metadata": {
        "id": "ByYZvaS2_VES"
      },
      "execution_count": 46,
      "outputs": []
    },
    {
      "cell_type": "code",
      "source": [
        "# Brand Analysis: Price and Rating\n",
        "brand_price_rating = data.groupby('Brand').agg({'Current Price':'mean', 'Rating':'mean'})"
      ],
      "metadata": {
        "id": "zbso3_5V_Zhi"
      },
      "execution_count": 47,
      "outputs": []
    },
    {
      "cell_type": "code",
      "source": [
        "# Display Results\n",
        "print(\"Popularity by Brand:\\n\", popularity_by_brand)\n",
        "print(\"\\nAverage Rating by Brand:\\n\", average_rating_by_brand)\n",
        "print(\"\\nBattery Life and Rating Comparison:\\n\", battery_rating_comparison)\n",
        "print(\"\\nBrand Analysis - Price and Rating:\\n\", brand_price_rating)"
      ],
      "metadata": {
        "colab": {
          "base_uri": "https://localhost:8080/"
        },
        "id": "dqy0TfyQ_blK",
        "outputId": "32ffb1c7-798c-4e1b-e554-4e2efc706d8a"
      },
      "execution_count": 48,
      "outputs": [
        {
          "output_type": "stream",
          "name": "stdout",
          "text": [
            "Popularity by Brand:\n",
            " Brand\n",
            "amazfit         27536.0\n",
            "ambrane        116132.0\n",
            "apple          172184.0\n",
            "boat          1414885.0\n",
            "crossbeats       9382.0\n",
            "dizo           346145.0\n",
            "fire-boltt     490099.0\n",
            "fitbit          16846.0\n",
            "fossil          14259.0\n",
            "garmin          29695.0\n",
            "gizmore         13480.0\n",
            "hammer            516.0\n",
            "honor           59655.0\n",
            "huawei          14802.0\n",
            "noise         1592535.0\n",
            "pebble          57403.0\n",
            "samsung        129894.0\n",
            "zebronics       28090.0\n",
            "Name: Number OF Ratings, dtype: float64\n",
            "\n",
            "Average Rating by Brand:\n",
            " Brand\n",
            "amazfit       4.142857\n",
            "ambrane       4.081818\n",
            "apple         4.553846\n",
            "boat          4.000000\n",
            "crossbeats    4.100000\n",
            "dizo          3.876000\n",
            "fire-boltt    3.506667\n",
            "fitbit        4.428571\n",
            "fossil        4.066667\n",
            "garmin        4.441463\n",
            "gizmore       3.869565\n",
            "hammer        3.600000\n",
            "honor         4.235714\n",
            "huawei        4.313333\n",
            "noise         4.069767\n",
            "pebble        3.954545\n",
            "samsung       4.223333\n",
            "zebronics     3.636364\n",
            "Name: Rating, dtype: float64\n",
            "\n",
            "Battery Life and Rating Comparison:\n",
            " Battery Life (Days)\n",
            "0.75     4.066667\n",
            "3.50     4.145205\n",
            "3.60     4.116667\n",
            "8.00     4.021698\n",
            "12.50    4.125000\n",
            "17.50    4.091892\n",
            "22.00    3.956818\n",
            "Name: Rating, dtype: float64\n",
            "\n",
            "Brand Analysis - Price and Rating:\n",
            "             Current Price    Rating\n",
            "Brand                              \n",
            "amazfit      10084.785714  4.142857\n",
            "ambrane       1896.181818  4.081818\n",
            "apple        43161.307692  4.553846\n",
            "boat          2153.687500  4.000000\n",
            "crossbeats    4249.000000  4.100000\n",
            "dizo          3050.240000  3.876000\n",
            "fire-boltt    3292.366667  3.506667\n",
            "fitbit       17045.761905  4.428571\n",
            "fossil       15232.666667  4.066667\n",
            "garmin       42210.170732  4.441463\n",
            "gizmore       2320.739130  3.869565\n",
            "hammer        1799.000000  3.600000\n",
            "honor        10373.857143  4.235714\n",
            "huawei       15159.133333  4.313333\n",
            "noise         4029.023256  4.069767\n",
            "pebble        3648.242424  3.954545\n",
            "samsung      24601.633333  4.223333\n",
            "zebronics     2767.121212  3.636364\n"
          ]
        }
      ]
    },
    {
      "cell_type": "code",
      "source": [],
      "metadata": {
        "id": "B735SFsm_8lq"
      },
      "execution_count": null,
      "outputs": []
    }
  ]
}